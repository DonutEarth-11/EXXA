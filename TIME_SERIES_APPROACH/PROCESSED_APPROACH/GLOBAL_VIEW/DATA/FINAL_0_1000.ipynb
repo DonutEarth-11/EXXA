{
  "cells": [
    {
      "cell_type": "code",
      "execution_count": null,
      "metadata": {
        "colab": {
          "base_uri": "https://localhost:8080/"
        },
        "id": "t6ctjMM1cPG_",
        "outputId": "6754d808-4215-41b9-a0b5-c918d5778efb",
        "collapsed": true
      },
      "outputs": [
        {
          "output_type": "stream",
          "name": "stdout",
          "text": [
            "Looking in indexes: https://pypi.org/simple, https://us-python.pkg.dev/colab-wheels/public/simple/\n",
            "Collecting lightkurve\n",
            "  Downloading lightkurve-2.0.11-py3-none-any.whl (247 kB)\n",
            "\u001b[K     |████████████████████████████████| 247 kB 13.7 MB/s \n",
            "\u001b[?25hRequirement already satisfied: beautifulsoup4>=4.6.0 in /usr/local/lib/python3.7/dist-packages (from lightkurve) (4.6.3)\n",
            "Collecting astroquery>=0.3.10\n",
            "  Downloading astroquery-0.4.6-py3-none-any.whl (4.5 MB)\n",
            "\u001b[K     |████████████████████████████████| 4.5 MB 44.0 MB/s \n",
            "\u001b[?25hRequirement already satisfied: astropy>=4.1 in /usr/local/lib/python3.7/dist-packages (from lightkurve) (4.3.1)\n",
            "Requirement already satisfied: matplotlib>=1.5.3 in /usr/local/lib/python3.7/dist-packages (from lightkurve) (3.2.2)\n",
            "Requirement already satisfied: pandas>=1.1.4 in /usr/local/lib/python3.7/dist-packages (from lightkurve) (1.3.5)\n",
            "Requirement already satisfied: scipy>=0.19.0 in /usr/local/lib/python3.7/dist-packages (from lightkurve) (1.7.3)\n",
            "Collecting uncertainties>=3.1.4\n",
            "  Downloading uncertainties-3.1.7-py2.py3-none-any.whl (98 kB)\n",
            "\u001b[K     |████████████████████████████████| 98 kB 8.1 MB/s \n",
            "\u001b[?25hRequirement already satisfied: numpy>=1.11 in /usr/local/lib/python3.7/dist-packages (from lightkurve) (1.21.6)\n",
            "Requirement already satisfied: scikit-learn>=0.24.0 in /usr/local/lib/python3.7/dist-packages (from lightkurve) (1.0.2)\n",
            "Collecting oktopus>=0.1.2\n",
            "  Downloading oktopus-0.1.2.tar.gz (10 kB)\n",
            "Collecting memoization>=0.3.1\n",
            "  Downloading memoization-0.4.0.tar.gz (41 kB)\n",
            "\u001b[K     |████████████████████████████████| 41 kB 220 kB/s \n",
            "\u001b[?25hRequirement already satisfied: requests>=2.22.0 in /usr/local/lib/python3.7/dist-packages (from lightkurve) (2.23.0)\n",
            "Requirement already satisfied: patsy>=0.5.0 in /usr/local/lib/python3.7/dist-packages (from lightkurve) (0.5.2)\n",
            "Requirement already satisfied: tqdm>=4.25.0 in /usr/local/lib/python3.7/dist-packages (from lightkurve) (4.64.0)\n",
            "Collecting fbpca>=1.0\n",
            "  Downloading fbpca-1.0.tar.gz (11 kB)\n",
            "Requirement already satisfied: bokeh>=1.0 in /usr/local/lib/python3.7/dist-packages (from lightkurve) (2.3.3)\n",
            "Requirement already satisfied: importlib-metadata in /usr/local/lib/python3.7/dist-packages (from astropy>=4.1->lightkurve) (4.12.0)\n",
            "Requirement already satisfied: pyerfa>=1.7.3 in /usr/local/lib/python3.7/dist-packages (from astropy>=4.1->lightkurve) (2.0.0.1)\n",
            "Collecting keyring>=4.0\n",
            "  Downloading keyring-23.7.0-py3-none-any.whl (34 kB)\n",
            "Collecting pyvo>=1.1\n",
            "  Downloading pyvo-1.2.1-py3-none-any.whl (832 kB)\n",
            "\u001b[K     |████████████████████████████████| 832 kB 52.8 MB/s \n",
            "\u001b[?25hRequirement already satisfied: html5lib>=0.999 in /usr/local/lib/python3.7/dist-packages (from astroquery>=0.3.10->lightkurve) (1.0.1)\n",
            "Requirement already satisfied: python-dateutil>=2.1 in /usr/local/lib/python3.7/dist-packages (from bokeh>=1.0->lightkurve) (2.8.2)\n",
            "Requirement already satisfied: pillow>=7.1.0 in /usr/local/lib/python3.7/dist-packages (from bokeh>=1.0->lightkurve) (7.1.2)\n",
            "Requirement already satisfied: tornado>=5.1 in /usr/local/lib/python3.7/dist-packages (from bokeh>=1.0->lightkurve) (5.1.1)\n",
            "Requirement already satisfied: packaging>=16.8 in /usr/local/lib/python3.7/dist-packages (from bokeh>=1.0->lightkurve) (21.3)\n",
            "Requirement already satisfied: Jinja2>=2.9 in /usr/local/lib/python3.7/dist-packages (from bokeh>=1.0->lightkurve) (2.11.3)\n",
            "Requirement already satisfied: typing-extensions>=3.7.4 in /usr/local/lib/python3.7/dist-packages (from bokeh>=1.0->lightkurve) (4.1.1)\n",
            "Requirement already satisfied: PyYAML>=3.10 in /usr/local/lib/python3.7/dist-packages (from bokeh>=1.0->lightkurve) (3.13)\n",
            "Requirement already satisfied: webencodings in /usr/local/lib/python3.7/dist-packages (from html5lib>=0.999->astroquery>=0.3.10->lightkurve) (0.5.1)\n",
            "Requirement already satisfied: six>=1.9 in /usr/local/lib/python3.7/dist-packages (from html5lib>=0.999->astroquery>=0.3.10->lightkurve) (1.15.0)\n",
            "Requirement already satisfied: MarkupSafe>=0.23 in /usr/local/lib/python3.7/dist-packages (from Jinja2>=2.9->bokeh>=1.0->lightkurve) (2.0.1)\n",
            "Collecting jeepney>=0.4.2\n",
            "  Downloading jeepney-0.8.0-py3-none-any.whl (48 kB)\n",
            "\u001b[K     |████████████████████████████████| 48 kB 4.6 MB/s \n",
            "\u001b[?25hCollecting SecretStorage>=3.2\n",
            "  Downloading SecretStorage-3.3.2-py3-none-any.whl (15 kB)\n",
            "Requirement already satisfied: zipp>=0.5 in /usr/local/lib/python3.7/dist-packages (from importlib-metadata->astropy>=4.1->lightkurve) (3.8.0)\n",
            "Requirement already satisfied: kiwisolver>=1.0.1 in /usr/local/lib/python3.7/dist-packages (from matplotlib>=1.5.3->lightkurve) (1.4.3)\n",
            "Requirement already satisfied: cycler>=0.10 in /usr/local/lib/python3.7/dist-packages (from matplotlib>=1.5.3->lightkurve) (0.11.0)\n",
            "Requirement already satisfied: pyparsing!=2.0.4,!=2.1.2,!=2.1.6,>=2.0.1 in /usr/local/lib/python3.7/dist-packages (from matplotlib>=1.5.3->lightkurve) (3.0.9)\n",
            "Requirement already satisfied: autograd in /usr/local/lib/python3.7/dist-packages (from oktopus>=0.1.2->lightkurve) (1.4)\n",
            "Requirement already satisfied: pytz>=2017.3 in /usr/local/lib/python3.7/dist-packages (from pandas>=1.1.4->lightkurve) (2022.1)\n",
            "Requirement already satisfied: urllib3!=1.25.0,!=1.25.1,<1.26,>=1.21.1 in /usr/local/lib/python3.7/dist-packages (from requests>=2.22.0->lightkurve) (1.24.3)\n",
            "Requirement already satisfied: certifi>=2017.4.17 in /usr/local/lib/python3.7/dist-packages (from requests>=2.22.0->lightkurve) (2022.6.15)\n",
            "Requirement already satisfied: idna<3,>=2.5 in /usr/local/lib/python3.7/dist-packages (from requests>=2.22.0->lightkurve) (2.10)\n",
            "Requirement already satisfied: chardet<4,>=3.0.2 in /usr/local/lib/python3.7/dist-packages (from requests>=2.22.0->lightkurve) (3.0.4)\n",
            "Requirement already satisfied: joblib>=0.11 in /usr/local/lib/python3.7/dist-packages (from scikit-learn>=0.24.0->lightkurve) (1.1.0)\n",
            "Requirement already satisfied: threadpoolctl>=2.0.0 in /usr/local/lib/python3.7/dist-packages (from scikit-learn>=0.24.0->lightkurve) (3.1.0)\n",
            "Collecting cryptography>=2.0\n",
            "  Downloading cryptography-37.0.4-cp36-abi3-manylinux_2_24_x86_64.whl (4.1 MB)\n",
            "\u001b[K     |████████████████████████████████| 4.1 MB 46.6 MB/s \n",
            "\u001b[?25hRequirement already satisfied: cffi>=1.12 in /usr/local/lib/python3.7/dist-packages (from cryptography>=2.0->SecretStorage>=3.2->keyring>=4.0->astroquery>=0.3.10->lightkurve) (1.15.1)\n",
            "Requirement already satisfied: pycparser in /usr/local/lib/python3.7/dist-packages (from cffi>=1.12->cryptography>=2.0->SecretStorage>=3.2->keyring>=4.0->astroquery>=0.3.10->lightkurve) (2.21)\n",
            "Requirement already satisfied: future in /usr/local/lib/python3.7/dist-packages (from uncertainties>=3.1.4->lightkurve) (0.16.0)\n",
            "Building wheels for collected packages: fbpca, memoization, oktopus\n",
            "  Building wheel for fbpca (setup.py) ... \u001b[?25l\u001b[?25hdone\n",
            "  Created wheel for fbpca: filename=fbpca-1.0-py3-none-any.whl size=11375 sha256=111aab98e10a433d26aac2f05bf5fa6bc0464a34554a63b2c7eae1ba3b0fc50f\n",
            "  Stored in directory: /root/.cache/pip/wheels/93/08/0c/1b9866c35c8d3f136d100dfe88036a32e0795437daca089f70\n",
            "  Building wheel for memoization (setup.py) ... \u001b[?25l\u001b[?25hdone\n",
            "  Created wheel for memoization: filename=memoization-0.4.0-py3-none-any.whl size=50467 sha256=7f7099d3b7ace5f5668d47b927f7a6bde9543d186052fcac47a556fd04bd4c8d\n",
            "  Stored in directory: /root/.cache/pip/wheels/38/f7/65/161985e7311dd484a23b3a5c9149995dbf11db6cede602e7ef\n",
            "  Building wheel for oktopus (setup.py) ... \u001b[?25l\u001b[?25hdone\n",
            "  Created wheel for oktopus: filename=oktopus-0.1.2-py3-none-any.whl size=12779 sha256=1dea035a04a9ee88f3d7ba2ec2d4970f4dbad655d5febf1512d878f5e185055f\n",
            "  Stored in directory: /root/.cache/pip/wheels/19/22/e3/6d224a32d6f94f28113d6d26c8bef81d7e05978d0efed29517\n",
            "Successfully built fbpca memoization oktopus\n",
            "Installing collected packages: jeepney, cryptography, SecretStorage, pyvo, keyring, uncertainties, oktopus, memoization, fbpca, astroquery, lightkurve\n",
            "Successfully installed SecretStorage-3.3.2 astroquery-0.4.6 cryptography-37.0.4 fbpca-1.0 jeepney-0.8.0 keyring-23.7.0 lightkurve-2.0.11 memoization-0.4.0 oktopus-0.1.2 pyvo-1.2.1 uncertainties-3.1.7\n",
            "Looking in indexes: https://pypi.org/simple, https://us-python.pkg.dev/colab-wheels/public/simple/\n",
            "Collecting tslearn\n",
            "  Downloading tslearn-0.5.2-cp37-cp37m-manylinux_2_5_x86_64.manylinux1_x86_64.manylinux_2_12_x86_64.manylinux2010_x86_64.whl (793 kB)\n",
            "\u001b[K     |████████████████████████████████| 793 kB 14.8 MB/s \n",
            "\u001b[?25hRequirement already satisfied: Cython in /usr/local/lib/python3.7/dist-packages (from tslearn) (0.29.30)\n",
            "Requirement already satisfied: scikit-learn in /usr/local/lib/python3.7/dist-packages (from tslearn) (1.0.2)\n",
            "Requirement already satisfied: numpy in /usr/local/lib/python3.7/dist-packages (from tslearn) (1.21.6)\n",
            "Requirement already satisfied: scipy in /usr/local/lib/python3.7/dist-packages (from tslearn) (1.7.3)\n",
            "Requirement already satisfied: joblib in /usr/local/lib/python3.7/dist-packages (from tslearn) (1.1.0)\n",
            "Requirement already satisfied: numba in /usr/local/lib/python3.7/dist-packages (from tslearn) (0.51.2)\n",
            "Requirement already satisfied: llvmlite<0.35,>=0.34.0.dev0 in /usr/local/lib/python3.7/dist-packages (from numba->tslearn) (0.34.0)\n",
            "Requirement already satisfied: setuptools in /usr/local/lib/python3.7/dist-packages (from numba->tslearn) (57.4.0)\n",
            "Requirement already satisfied: threadpoolctl>=2.0.0 in /usr/local/lib/python3.7/dist-packages (from scikit-learn->tslearn) (3.1.0)\n",
            "Installing collected packages: tslearn\n",
            "Successfully installed tslearn-0.5.2\n",
            "Looking in indexes: https://pypi.org/simple, https://us-python.pkg.dev/colab-wheels/public/simple/\n",
            "Collecting pytictoc\n",
            "  Downloading pytictoc-1.5.2-py2.py3-none-any.whl (4.0 kB)\n",
            "Installing collected packages: pytictoc\n",
            "Successfully installed pytictoc-1.5.2\n"
          ]
        }
      ],
      "source": [
        "# INSTALLING THE NECESSARY LIBRARIES\n",
        "!pip install lightkurve\n",
        "!pip install tslearn \n",
        "!pip install pytictoc"
      ]
    },
    {
      "cell_type": "code",
      "execution_count": null,
      "metadata": {
        "id": "ER3xwBsncc6m"
      },
      "outputs": [],
      "source": [
        "# IMPORTING NECESSARY LIBRARIES\n",
        "import lightkurve as lk\n",
        "import pandas as pd\n",
        "import numpy as np\n",
        "from tslearn.utils import to_time_series_dataset\n",
        "from tslearn.preprocessing import TimeSeriesResampler\n",
        "from pytictoc import TicToc"
      ]
    },
    {
      "cell_type": "code",
      "execution_count": null,
      "metadata": {
        "id": "ZM5YdahsdKwm"
      },
      "outputs": [],
      "source": [
        "# IMPORT AND PROCESSING THE KEPLER ID DATA\n",
        "finalData = pd.read_csv('finalData.csv')\n",
        "finalData = finalData[finalData['koi_disposition'].str.contains('CANDIDATE')==False] # removing 'candidate' rows\n",
        "finalData = finalData.drop_duplicates(subset=['kepid']) # removing duplicates where kepid is repeated ==> CONTROVERSIAL!!! to deal with multiple planets (0, 1, 1+) classification, need raw data\n",
        "finalData = finalData.replace(['CONFIRMED', 'FALSE POSITIVE'], [1, 0]) # converting 'confirmed' / 'false positive' into 1 / 0\n",
        "data = finalData\n",
        "data = data.reset_index(drop=True)"
      ]
    },
    {
      "cell_type": "code",
      "execution_count": null,
      "metadata": {
        "colab": {
          "background_save": true,
          "base_uri": "https://localhost:8080/"
        },
        "id": "qg0oNp53d3wj",
        "outputId": "e9b36b13-5d95-4358-95e8-5c6a6a012452",
        "collapsed": true
      },
      "outputs": [
        {
          "output_type": "stream",
          "name": "stdout",
          "text": [
            "0\n",
            "Elapsed time is 28.245444 seconds.\n",
            "None\n",
            "1\n",
            "Elapsed time is 17.261830 seconds.\n",
            "None\n",
            "2\n",
            "Elapsed time is 20.406396 seconds.\n",
            "None\n",
            "3\n",
            "Elapsed time is 20.366598 seconds.\n",
            "None\n",
            "4\n",
            "Elapsed time is 22.578056 seconds.\n",
            "None\n",
            "5\n",
            "Elapsed time is 22.468539 seconds.\n",
            "None\n",
            "6\n",
            "Elapsed time is 18.985899 seconds.\n",
            "None\n",
            "7\n",
            "Elapsed time is 22.182596 seconds.\n",
            "None\n",
            "8\n",
            "Elapsed time is 23.347758 seconds.\n",
            "None\n",
            "9\n",
            "Elapsed time is 22.461542 seconds.\n",
            "None\n",
            "10\n",
            "Elapsed time is 20.737374 seconds.\n",
            "None\n",
            "11\n",
            "Elapsed time is 28.140155 seconds.\n",
            "None\n",
            "12\n",
            "Elapsed time is 24.298293 seconds.\n",
            "None\n",
            "13\n",
            "Elapsed time is 22.404589 seconds.\n",
            "None\n"
          ]
        }
      ],
      "source": [
        "initial_X = []\n",
        "initial_Y = []\n",
        "i = 0 # dummy variable to verify the loop is working\n",
        "\n",
        "for kepid in data['kepid'].iloc[0:1000]:\n",
        "  t = TicToc()\n",
        "  start_time = t.tic()\n",
        "\n",
        "\n",
        "  try: \n",
        "    # DOWNLOADING THE DATA\n",
        "    KIC = 'KIC ' + str(kepid)\n",
        "    lcs = lk.search_lightcurve(KIC, author='kepler', cadence='long').download_all()\n",
        "\n",
        "    # FINDING THE PERIOD, T0 AND DURATION FOR PROCESSING\n",
        "    row_number = finalData[finalData['kepid'] == kepid].index[0]\n",
        "    period, t0, duration_hours =  finalData['koi_period'][row_number],  finalData['koi_time0bk'][row_number],  finalData['koi_duration'][row_number]\n",
        "    \n",
        "    # PROCESSING THE LIGHTKURVE DATA\n",
        "    lc_raw = lcs.stitch()\n",
        "    lc_clean = lc_raw.remove_outliers(sigma=20, sigma_upper=4)\n",
        "    temp_fold = lc_clean.fold(period, epoch_time=t0)\n",
        "    fractional_duration = (duration_hours / 24.0) / period\n",
        "    phase_mask = np.abs(temp_fold.phase.value) < (fractional_duration * 1.5)\n",
        "    transit_mask = np.in1d(lc_clean.time.value, temp_fold.time_original.value[phase_mask])\n",
        "    lc_flat, trend_lc = lc_clean.flatten(return_trend=True, mask=transit_mask)\n",
        "    lc_fold = lc_flat.fold(period, epoch_time=t0)\n",
        "    \n",
        "    # CREATING THE GLOBAL VIEW\n",
        "    lc_global = lc_fold.bin(time_bin_size=0.005).normalize() - 1\n",
        "    lc_global = (lc_global / np.abs(lc_global.flux.min()) ) * 2.0 + 1\n",
        "\n",
        "\n",
        "    # CONVERTING TO PANDAS DF\n",
        "    lc_global = lc_global.to_pandas()\n",
        "\n",
        "    # CREATE LISTS OF X (TIMESERIES DATA) AND Y (LABEL)\n",
        "    initial_X.append(lc_global['flux'].tolist())\n",
        "    initial_Y.append(finalData['koi_disposition'][row_number])\n",
        "\n",
        "    print(i)\n",
        "    i += 1\n",
        "\n",
        "    end_time = t.toc()\n",
        "    print(end_time)\n",
        "\n",
        "\n",
        "  except: \n",
        "    pass"
      ]
    },
    {
      "cell_type": "code",
      "execution_count": null,
      "metadata": {
        "colab": {
          "background_save": true
        },
        "id": "0w_5PrhUBGN7"
      },
      "outputs": [],
      "source": [
        "initial_X = [list(filter(lambda x: x == x, inner_list)) for inner_list in initial_X]\n",
        "initial_X_2 = [x for x in initial_X if x != []]\n",
        "empty_idx = [i for i,x in enumerate(initial_X) if not x]\n",
        "\n",
        "for i in sorted(empty_idx, reverse=True):\n",
        "  del initial_Y[i]\n",
        "\n",
        "\n",
        "y = np.array(initial_Y)\n",
        "\n",
        "\n",
        "time_series_X = to_time_series_dataset(initial_X_2)\n",
        "\n",
        "resampled_time_series_X = TimeSeriesResampler(sz=time_series_X.shape[1]).fit_transform(time_series_X)\n",
        "\n",
        "new = np.squeeze(resampled_time_series_X)"
      ]
    },
    {
      "cell_type": "code",
      "execution_count": null,
      "metadata": {
        "id": "zJE5gXOD-FHE"
      },
      "outputs": [],
      "source": [
        "numbers_list = [str(x) for x in range(new.shape[1])]\n",
        "\n",
        "df = pd.DataFrame(new,columns=numbers_list)\n",
        "\n",
        "df['target'] = y"
      ]
    },
    {
      "cell_type": "code",
      "execution_count": null,
      "metadata": {
        "id": "MS5g5TNB_gXC"
      },
      "outputs": [],
      "source": [
        "from google.colab import drive\n",
        "\n",
        "drive.mount('/content/drive', force_remount=True)\n",
        "path = '/content/drive/My Drive/GSOC/WEEK 7/output0_1000.csv'\n",
        "\n",
        "with open(path, 'w', encoding = 'utf-8-sig') as f:\n",
        "  df.to_csv(f)"
      ]
    },
    {
      "cell_type": "code",
      "execution_count": null,
      "metadata": {
        "colab": {
          "background_save": true
        },
        "id": "cghP0M3rA6Yg"
      },
      "outputs": [],
      "source": [
        ""
      ]
    }
  ],
  "metadata": {
    "colab": {
      "background_execution": "on",
      "collapsed_sections": [],
      "name": "FINAL 0:1000.ipynb",
      "provenance": []
    },
    "gpuClass": "standard",
    "kernelspec": {
      "display_name": "Python 3",
      "name": "python3"
    },
    "language_info": {
      "name": "python"
    }
  },
  "nbformat": 4,
  "nbformat_minor": 0
}